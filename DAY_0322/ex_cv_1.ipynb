{
 "cells": [
  {
   "cell_type": "markdown",
   "metadata": {},
   "source": [
    "### [기본적인 이미지 다루기]"
   ]
  },
  {
   "cell_type": "code",
   "execution_count": 2,
   "metadata": {},
   "outputs": [],
   "source": [
    "### 모듈 로딩\n",
    "import cv2\n",
    "import numpy as np"
   ]
  },
  {
   "cell_type": "markdown",
   "metadata": {},
   "source": [
    "[1] 이미지 데이터 로딩 <hr>\n",
    "- 컬러/회색 이미지 변환 로딩 가능함"
   ]
  },
  {
   "cell_type": "code",
   "execution_count": 3,
   "metadata": {},
   "outputs": [],
   "source": [
    "file = '../DATA/IMAGE/naeun1.jpg'"
   ]
  },
  {
   "cell_type": "code",
   "execution_count": 20,
   "metadata": {},
   "outputs": [],
   "source": [
    "### 컬러 이미지 로딩 [기본값]\n",
    "img_bgr = cv2.imread(file, cv2.IMREAD_COLOR)\n",
    "\n",
    "### 회색 이미지 로딩 [기본값]\n",
    "img_gray = cv2.imread(file, cv2.IMREAD_GRAYSCALE)"
   ]
  },
  {
   "cell_type": "code",
   "execution_count": 5,
   "metadata": {},
   "outputs": [
    {
     "name": "stdout",
     "output_type": "stream",
     "text": [
      "[Color IMAGE]\n",
      "SHAPE : (625, 500, 3)    DIM : 3차원     SHAPE : uint8    SIZE : 937500바이트\n",
      "[Gray IMAGE]\n",
      "SHAPE : (625, 500)    DIM : 2차원     SHAPE : uint8    SIZE : 312500바이트\n"
     ]
    }
   ],
   "source": [
    "### 이미지 데이터 정보확인\n",
    "print(f'[Color IMAGE]')\n",
    "print(f'SHAPE : {img_bgr.shape}    DIM : {img_bgr.ndim}차원', end = '     ')\n",
    "print(f'SHAPE : {img_bgr.dtype}    SIZE : {img_bgr.size}바이트')\n",
    "\n",
    "### 이미지 데이터 정보확인\n",
    "print(f'[Gray IMAGE]')\n",
    "print(f'SHAPE : {img_gray.shape}    DIM : {img_gray.ndim}차원', end = '     ')\n",
    "print(f'SHAPE : {img_gray.dtype}    SIZE : {img_gray.size}바이트')"
   ]
  },
  {
   "cell_type": "code",
   "execution_count": 10,
   "metadata": {},
   "outputs": [],
   "source": [
    "### 이미지 데이터 읽기\n",
    "if img_bgr is not None:\n",
    "    cv2.imshow('[COLOR]', img_bgr)  # 이미지 창 띄우기\n",
    "    cv2.waitKey()  # 이미지 창 제어\n",
    "    cv2.destroyAllWindows()  # 이미지 창 닫기\n",
    "else:\n",
    "    print('No image file!!')"
   ]
  },
  {
   "cell_type": "code",
   "execution_count": 14,
   "metadata": {},
   "outputs": [
    {
     "name": "stdout",
     "output_type": "stream",
     "text": [
      "key =>> 27 - 0x1b\n"
     ]
    }
   ],
   "source": [
    "### 이미지 데이터 읽기\n",
    "if img_bgr is not None:\n",
    "    cv2.imshow('[COLOR]', img_bgr)\n",
    "    while True:\n",
    "        key = cv2.waitKey()\n",
    "        print(f'key =>> {key} - {hex(key)}')\n",
    "\n",
    "        if key == 27:\n",
    "            cv2.destroyAllWindows()\n",
    "            break\n",
    "else:\n",
    "    print('No image fill!!')"
   ]
  },
  {
   "cell_type": "code",
   "execution_count": 15,
   "metadata": {},
   "outputs": [],
   "source": [
    "### 이미지 화면 출력\n",
    "save_filename = '../DATA/IMAGE/gray_.jpg'\n",
    "gray_file = cv2.imwrite(save_filename, img_gray)"
   ]
  },
  {
   "cell_type": "code",
   "execution_count": 17,
   "metadata": {},
   "outputs": [],
   "source": [
    "### 이미지 채널 분리\n",
    "import time\n",
    "img_b, img_g, img_r = cv2.split(img_bgr)\n",
    "\n",
    "cv2.imshow('[Blue Channel]', img_b)\n",
    "time.sleep(1)\n",
    "cv2.imshow('[Green Channel]', img_g)\n",
    "time.sleep(1)\n",
    "cv2.imshow('[Red Channel]', img_r)\n",
    "\n",
    "cv2.waitKey()\n",
    "cv2.destroyAllWindows()"
   ]
  },
  {
   "cell_type": "code",
   "execution_count": 18,
   "metadata": {},
   "outputs": [],
   "source": [
    "### 이미지 채널 분리\n",
    "\n",
    "### ndarray 분리\n",
    "b, g, r = img_bgr[:, :, 0], img_bgr[:, :, 1], img_bgr[:, :, 2]\n",
    "\n",
    "cv2.imshow('[IMG-R]', b)\n",
    "time.sleep(1)\n",
    "cv2.imshow('[IMG-G]', g)\n",
    "time.sleep(1)\n",
    "cv2.imshow('[IMG-B]', r)\n",
    "cv2.waitKey()\n",
    "cv2.destroyAllWindows()"
   ]
  },
  {
   "cell_type": "code",
   "execution_count": 21,
   "metadata": {},
   "outputs": [],
   "source": [
    "### 이미지 채널 병합\n",
    "\n",
    "img_b, img_g, img_r = cv2.split(img_bgr)\n",
    "img_rgb = cv2.merge((img_r, img_g, img_b))\n",
    "cv2.imshow('[RGB IMAGE]', img_rgb)\n",
    "\n",
    "cv2.waitKey()\n",
    "cv2.destroyAllWindows()"
   ]
  },
  {
   "cell_type": "code",
   "execution_count": 23,
   "metadata": {},
   "outputs": [],
   "source": [
    "### 이미지 색 공간 변환\n",
    "\n",
    "# BGR => HSV\n",
    "src_hsv = cv2.cvtColor(img_bgr, cv2.COLOR_BGR2HSV)\n",
    "planes = cv2.split(src_hsv)\n",
    "\n",
    "cv2.imshow('[HSV IMG]', src_hsv)\n",
    "\n",
    "cv2.waitKey()\n",
    "cv2.destroyAllWindows()"
   ]
  },
  {
   "cell_type": "code",
   "execution_count": 24,
   "metadata": {},
   "outputs": [],
   "source": [
    "# 이미지 색 공간 변환\n",
    "\n",
    "# BGR => HSV\n",
    "src_hsv = cv2.cvtColor(img_bgr, cv2.COLOR_BGR2HSV)\n",
    "h, s, v = cv2.split(src_hsv)\n",
    "\n",
    "cv2.imshow('[IMG-H]', h)\n",
    "time.sleep(1)\n",
    "cv2.imshow('[IMG-S]', s)\n",
    "time.sleep(1)\n",
    "cv2.imshow('[IMG-V]', v)\n",
    "\n",
    "cv2.waitKey()\n",
    "cv2.destroyAllWindows()"
   ]
  },
  {
   "cell_type": "code",
   "execution_count": 26,
   "metadata": {},
   "outputs": [],
   "source": [
    "### 이미지 축소/확대\n",
    "down_img = cv2.resize(img_bgr, dsize = (30, 30), interpolation = cv2.INTER_AREA)\n",
    "up_img = cv2.resize(img_bgr, dsize = (0, 0), fx = 1.5, fy = 1.5, interpolation = cv2.INTER_CUBIC)\n",
    "\n",
    "cv2.imshow('down_img', down_img)\n",
    "time.sleep(1)\n",
    "cv2.imshow('up_img', up_img)\n",
    "time.sleep(1)\n",
    "cv2.imshow('ORG', img_bgr)\n",
    "\n",
    "# esc누르거나 x누르면 창 닫음\n",
    "if cv2.waitKey() or cv2.getWindowProperty('[COLOR]', cv2.WND_PROP_VISIBLE) < 1:\n",
    "    cv2.destroyAllWindows()"
   ]
  },
  {
   "cell_type": "code",
   "execution_count": 75,
   "metadata": {},
   "outputs": [
    {
     "data": {
      "text/plain": [
       "((300, 300), 2)"
      ]
     },
     "execution_count": 75,
     "metadata": {},
     "output_type": "execute_result"
    }
   ],
   "source": [
    "### 도화지 만들기\n",
    "h, w = 600, 600\n",
    "\n",
    "img_w = np.full((h, w), 255, dtype = np.uint8)\n",
    "ret = cv2.imwrite('../DATA/IMAGE/blank.jpg', img_w)\n",
    "\n",
    "img_k = np.zeros((300, 300), dtype = np.uint8)\n",
    "img_k.shape, img_k.ndim"
   ]
  },
  {
   "cell_type": "code",
   "execution_count": 76,
   "metadata": {},
   "outputs": [],
   "source": [
    "### 화면에 출력\n",
    "cv2.imshow('BLACK', img_k)\n",
    "cv2.imshow('WHITE', img_w)\n",
    "cv2.waitKey(5000)\n",
    "cv2.destroyAllWindows()"
   ]
  },
  {
   "cell_type": "code",
   "execution_count": 77,
   "metadata": {},
   "outputs": [
    {
     "data": {
      "text/plain": [
       "array([[[0, 0, 0],\n",
       "        [0, 0, 0],\n",
       "        [0, 0, 0],\n",
       "        ...,\n",
       "        [0, 0, 0],\n",
       "        [0, 0, 0],\n",
       "        [0, 0, 0]],\n",
       "\n",
       "       [[0, 0, 0],\n",
       "        [0, 0, 0],\n",
       "        [0, 0, 0],\n",
       "        ...,\n",
       "        [0, 0, 0],\n",
       "        [0, 0, 0],\n",
       "        [0, 0, 0]],\n",
       "\n",
       "       [[0, 0, 0],\n",
       "        [0, 0, 0],\n",
       "        [0, 0, 0],\n",
       "        ...,\n",
       "        [0, 0, 0],\n",
       "        [0, 0, 0],\n",
       "        [0, 0, 0]],\n",
       "\n",
       "       ...,\n",
       "\n",
       "       [[0, 0, 0],\n",
       "        [0, 0, 0],\n",
       "        [0, 0, 0],\n",
       "        ...,\n",
       "        [0, 0, 0],\n",
       "        [0, 0, 0],\n",
       "        [0, 0, 0]],\n",
       "\n",
       "       [[0, 0, 0],\n",
       "        [0, 0, 0],\n",
       "        [0, 0, 0],\n",
       "        ...,\n",
       "        [0, 0, 0],\n",
       "        [0, 0, 0],\n",
       "        [0, 0, 0]],\n",
       "\n",
       "       [[0, 0, 0],\n",
       "        [0, 0, 0],\n",
       "        [0, 0, 0],\n",
       "        ...,\n",
       "        [0, 0, 0],\n",
       "        [0, 0, 0],\n",
       "        [0, 0, 0]]], dtype=uint8)"
      ]
     },
     "execution_count": 77,
     "metadata": {},
     "output_type": "execute_result"
    }
   ],
   "source": [
    "### 이미지 데이터에 그림 그리기\n",
    "cv2.line(img_k, (10, 10), (70, 70), (255, 0, 0))\n",
    "\n",
    "img_k = cv2.cvtColor(img_k, cv2.COLOR_GRAY2BGR)\n",
    "img_k"
   ]
  },
  {
   "cell_type": "code",
   "execution_count": 78,
   "metadata": {},
   "outputs": [],
   "source": [
    "### 화면에 출력\n",
    "\n",
    "cv2.imshow('BLACK', img_k)\n",
    "cv2.imshow('WHITE', img_w)\n",
    "cv2.waitKey(5000)\n",
    "cv2.destroyAllWindows()"
   ]
  },
  {
   "cell_type": "code",
   "execution_count": 79,
   "metadata": {},
   "outputs": [],
   "source": [
    "### 직선 그리기\n",
    "img = cv2.imread('../DATA/IMAGE/blank.jpg')\n",
    "\n",
    "cv2.line(img, (50, 50), (150, 50), (255, 0, 0))  # 파란색 1픽셀 선\n",
    "cv2.line(img, (50, 50), (150, 50), (0, 255, 0))  # 초록섹 1픽셀 선\n",
    "cv2.line(img, (50, 50), (150, 50), (0, 0, 255))  # 빨간색 1픽셀 선\n",
    "\n",
    "# 하늘색(파랑+초록) 10픽셀 선\n",
    "cv2.line(img, (100, 100), (400, 100), (255, 255, 0), 10)\n",
    "\n",
    "# 분홍색(파랑+빨강) 10픽셀 선\n",
    "cv2.line(img, (100, 150), (400, 150), (0, 255, 255), 10)\n",
    "\n",
    "# 노란색(초록+빨강) 10픽셀 선\n",
    "cv2.line(img, (100, 200), (400, 200), (255, 0, 255), 10)\n",
    "\n",
    "# 회색(파랑+초록+빨강) 10픽셀 선\n",
    "cv2.line(img, (100, 250), (400, 250), (200, 200, 20), 10)\n",
    "\n",
    "# 검은색 10픽셀 선\n",
    "cv2.line(img, (100, 300), (400, 300), (0, 0, 0), 10)\n",
    "\n",
    "# 4연결 선\n",
    "cv2.line(img, (100, 350), (400, 400), (0, 0, 255), 20, cv2.LINE_4)\n",
    "\n",
    "# 8연결 선\n",
    "cv2.line(img, (100, 400), (400, 450), (0, 0, 255), 20, cv2.LINE_8)\n",
    "\n",
    "# 안티에일리어싱 선\n",
    "cv2.line(img, (100, 450), (400, 500), (0, 0, 255), 20, cv2.LINE_AA)\n",
    "\n",
    "# 이미지 전체에 대각선\n",
    "cv2.line(img, (0, 0), (500, 500), (0, 0, 255))\n",
    "\n",
    "cv2.imshow('lines', img)\n",
    "cv2.waitKey(5000)\n",
    "cv2.destroyAllWindows()"
   ]
  },
  {
   "cell_type": "code",
   "execution_count": 80,
   "metadata": {},
   "outputs": [],
   "source": [
    "### 사각형 그리기\n",
    "img = cv2.imread('../DATA/IMAGE/blank.jpg')\n",
    "\n",
    "cv2.rectangle(img, (50, 50), (150, 150), (255, 0, 0))  # 좌상, 우하 좌표로 사각형 그리기\n",
    "# 우하, 좌상 좌표로 사각형 그리기\n",
    "cv2.rectangle(img, (300, 300), (100, 100), (0, 255, 0), 10)\n",
    "# 우상, 좌하 좌표로 사각형 채워 그리기\n",
    "cv2.rectangle(img, (450, 200), (200, 450), (0, 0, 255), -1)\n",
    "\n",
    "cv2.imshow('rectangle', img)\n",
    "cv2.waitKey(5000)\n",
    "cv2.destroyAllWindows()"
   ]
  },
  {
   "cell_type": "code",
   "execution_count": 81,
   "metadata": {},
   "outputs": [],
   "source": [
    "### 다각형 그리기\n",
    "img = cv2.imread('../DATA/IMAGE/blank.jpg')\n",
    "\n",
    "# 넘파이 배열로 좌표 생성\n",
    "pts1 = np.array([[50, 50], [150, 150], [100, 140], [200, 240]], dtype = np.int32)\n",
    "# 삼각형 좌표\n",
    "pts2 = np.array([[350, 50], [250, 200], [450, 200]], dtype = np.int32)\n",
    "# 삼각형 좌표\n",
    "pts3 = np.array([[150, 300], [50, 450], [250, 450]], dtype = np.int32)\n",
    "# 5각형 좌표\n",
    "pts4 = np.array([[350, 250], [450, 350], [400, 450], [300, 450], [250, 350]], dtype = np.int32)\n",
    "\n",
    "# 다각형 그리기\n",
    "cv2.polylines(img, [pts1], False, (255, 0, 0))\n",
    "cv2.polylines(img, [pts2], False, (0, 0, 0), 10)\n",
    "cv2.polylines(img, [pts3], True, (0, 0, 255), 10)\n",
    "cv2.polylines(img, [pts4], True, (0, 0, 0))\n",
    "\n",
    "cv2.imshow('polyline', img)\n",
    "cv2.waitKey(5000)\n",
    "cv2.destroyAllWindows()"
   ]
  },
  {
   "cell_type": "code",
   "execution_count": 64,
   "metadata": {},
   "outputs": [],
   "source": [
    "### 다각형 그리기\n",
    "img = cv2.imread('../DATA/IMAGE/blank.jpg')\n",
    "\n",
    "# 원점(150, 150), 반지름 100\n",
    "cv2.circle(img, (150, 150), 100, (255, 0, 0))\n",
    "# 원점(300, 150), 반지름 70\n",
    "cv2.circle(img, (300, 150), 70, (0, 255, 0), 5)\n",
    "# 원점(450, 150), 반지름 50, 채우기\n",
    "cv2.circle(img, (150, 150), 50, (0, 0, 255), -1)\n",
    "\n",
    "# 원점(50, 300), 반지름(50), 회전0, 0도부터 360도 그리기\n",
    "cv2.ellipse(img, (50, 300), (50, 50), 0, 0, 360, (0, 0, 255))\n",
    "# 원점(150, 300), 아래 반원 그리기\n",
    "cv2.ellipse(img, (150, 300), (50, 50), 0, 0, 180, (255, 0, 0))\n",
    "# 원점(200, 300), 위 반원 그리기\n",
    "cv2.ellipse(img, (200, 300), (50, 50), 0, 181, 360, (0, 0, 255))\n",
    "\n",
    "# 원점(50, 425), 반지름(50, 75), 회전 15도\n",
    "cv2.ellipse(img, (50, 425), (50, 75), 15, 0, 360, (0, 0, 0))\n",
    "# 원점(200, 425), 반지름(50, 75), 회전 45도\n",
    "cv2.ellipse(img, (200, 425), (50, 75), 45, 0, 360, (0, 0, 0))\n",
    "\n",
    "# 원점(300, 425), 홀쭉한 타원 45도 회전 후 아래 반원 그리기\n",
    "cv2.ellipse(img, (300, 425), (50, 75), 45, 0, 180, (0, 0, 255))\n",
    "# 원점(400, 425), 홀쭉한 타원 45도 회전 후 위 반원 그리기\n",
    "cv2.ellipse(img, (400, 425), (50, 75), 45, 181, 360, (255, 0, 0))\n",
    "\n",
    "cv2.imshow('polyline', img)\n",
    "cv2.waitKey(5000)\n",
    "cv2.destroyAllWindows()"
   ]
  },
  {
   "cell_type": "code",
   "execution_count": 96,
   "metadata": {},
   "outputs": [],
   "source": [
    "### 글씨 그리기\n",
    "img = cv2.imread('../DATA/IMAGE/blank.jpg')\n",
    "\n",
    "# sans-serif small\n",
    "cv2.putText(img, 'Plain', (50, 30), cv2.FONT_HERSHEY_PLAIN, 1, (0, 0, 0))\n",
    "# sans-serif normal\n",
    "cv2.putText(img, 'Simplex', (50, 70), cv2.FONT_HERSHEY_SIMPLEX, 1, (0, 0, 0))\n",
    "# sans-serif bold\n",
    "cv2.putText(img, 'Duplex', (50, 110), cv2.FONT_HERSHEY_DUPLEX, 1, (0, 0, 0))\n",
    "# sans-serif normal X2\n",
    "cv2.putText(img, 'Simplex', (200, 110), cv2.FONT_HERSHEY_SIMPLEX, 1, (0, 0, 255))\n",
    "\n",
    "# serit small\n",
    "cv2.putText(img, 'Complex Small', (50, 180), cv2.FONT_HERSHEY_COMPLEX_SMALL, 1, (0, 0, 0))\n",
    "# serit normal\n",
    "cv2.putText(img, 'Complex', (50, 220), cv2.FONT_HERSHEY_COMPLEX, 1, (0, 0, 0))\n",
    "# serit bold\n",
    "cv2.putText(img, 'Triplex', (50, 260), cv2.FONT_HERSHEY_TRIPLEX, 1, (0, 0, 0))\n",
    "# sans-serif normal X2\n",
    "cv2.putText(img, 'Complex', (200, 260), cv2.FONT_HERSHEY_TRIPLEX, 2, (0, 0, 255))\n",
    "\n",
    "# hand-writing sans-serif\n",
    "cv2.putText(img, 'Script Simplex', (50, 330), cv2.FONT_HERSHEY_SCRIPT_SIMPLEX, 1, (0, 0, 0))\n",
    "# hand-writing sans-serif\n",
    "cv2.putText(img, 'Script Simplex', (50, 370), cv2.FONT_HERSHEY_SCRIPT_COMPLEX, 1, (0, 0, 0))\n",
    "\n",
    "# sans-serif + italic\n",
    "cv2.putText(img, 'Plain Italic', (50, 430), cv2.FONT_HERSHEY_PLAIN | cv2.FONT_ITALIC, 1, (0, 0, 0))\n",
    "# sans-serif + italic\n",
    "cv2.putText(img, 'Complex Italic', (50, 470), cv2.FONT_HERSHEY_PLAIN | cv2.FONT_ITALIC, 1, (0, 0, 0))\n",
    "\n",
    "cv2.imshow('polyline', img)\n",
    "cv2.waitKey(5000)\n",
    "cv2.destroyAllWindows()"
   ]
  },
  {
   "cell_type": "code",
   "execution_count": 102,
   "metadata": {},
   "outputs": [
    {
     "name": "stdout",
     "output_type": "stream",
     "text": [
      "< cv2.CascadeClassifier 0000024D4C767430>\n",
      "face_detections result\n",
      "[[215  24  46  23]\n",
      " [193 152  88  44]\n",
      " [102 353 106  52]\n",
      " [150  88  91  46]\n",
      " [155  75 115  57]\n",
      " [313 239  63  31]\n",
      " [230  98 154  77]\n",
      " [328 423 100  50]\n",
      " [334 243 129  64]\n",
      " [128 548  87  44]\n",
      " [143 523  82  41]]\n"
     ]
    }
   ],
   "source": [
    "frontalface_model = '../DATA/haarcascades/haarcascade_smile.xml'\n",
    "img_file = '../DATA/IMAGE/naeun1.jpg'\n",
    "\n",
    "face_detector = cv2.CascadeClassifier(frontalface_model)\n",
    "print(face_detector)\n",
    "# retval = cv2.CascadeClassifier.load(frontalface_model)\n",
    "# retval\n",
    "\n",
    "# 이미지 데이터 로딩\n",
    "imgNP = cv2.imread(img_file)\n",
    "\n",
    "# 이미지에서 정면 얼굴 인식 => [결과] 인식된 얼굴 수 만큼 위치정보 반환\n",
    "face_detections = face_detector.detectMultiScale(imgNP)\n",
    "print(f'face_detections result\\n{face_detections}')"
   ]
  },
  {
   "cell_type": "code",
   "execution_count": 103,
   "metadata": {},
   "outputs": [],
   "source": [
    "# 인식된 정면 얼굴 ROI 표시\n",
    "for (x, y, w, h) in face_detections:\n",
    "    cv2.rectangle(imgNP, (x, y), (x + w, y + h), (0, 255, 0), 2)\n",
    "\n",
    "# 화면 출력\n",
    "cv2.imshow('[M]', imgNP)\n",
    "\n",
    "# 키 입력 및 X버튼에 따른 창 닫기\n",
    "if cv2.waitKey() or cv2.getWindowProperty('image', cv2.WND_PROP_VISIBLE) < 1:\n",
    "    cv2.destroyAllWindows()"
   ]
  }
 ],
 "metadata": {
  "kernelspec": {
   "display_name": "Torch_PY38",
   "language": "python",
   "name": "python3"
  },
  "language_info": {
   "codemirror_mode": {
    "name": "ipython",
    "version": 3
   },
   "file_extension": ".py",
   "mimetype": "text/x-python",
   "name": "python",
   "nbconvert_exporter": "python",
   "pygments_lexer": "ipython3",
   "version": "3.8.12"
  }
 },
 "nbformat": 4,
 "nbformat_minor": 2
}
