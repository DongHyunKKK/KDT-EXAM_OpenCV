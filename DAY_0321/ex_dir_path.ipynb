{
 "cells": [
  {
   "cell_type": "markdown",
   "metadata": {},
   "source": [
    "### 폴더 및 파일 다루기"
   ]
  },
  {
   "cell_type": "code",
   "execution_count": 44,
   "metadata": {},
   "outputs": [],
   "source": [
    "# 모듈 로딩\n",
    "import os"
   ]
  },
  {
   "cell_type": "code",
   "execution_count": 45,
   "metadata": {},
   "outputs": [
    {
     "data": {
      "text/plain": [
       "True"
      ]
     },
     "execution_count": 45,
     "metadata": {},
     "output_type": "execute_result"
    }
   ],
   "source": [
    "# 특정 폴더 내의 모든 데이터 리스트 가져오기\n",
    "my_folder = '../DATA/'\n",
    "\n",
    "# 해당 폴더 또는 파일이 존재하는지 검사 => 결과 : True, False\n",
    "os.path.exists(my_folder)"
   ]
  },
  {
   "cell_type": "code",
   "execution_count": 46,
   "metadata": {},
   "outputs": [
    {
     "name": "stdout",
     "output_type": "stream",
     "text": [
      "hairloss.jpg---False\n",
      "IMAGE---True\n",
      "Iris.csv---False\n",
      "MNIST---True\n",
      "model---True\n",
      "winequality-white.csv---False\n"
     ]
    }
   ],
   "source": [
    "# 폴더 내 모든 파일, 폴더 리스트 반환\n",
    "datalist = os.listdir(my_folder)\n",
    "\n",
    "for data_name in datalist:\n",
    "    # 폴더 여부 체크 => os.isdir(경로)\n",
    "    print(data_name, os.path.isdir(my_folder + data_name), sep = '---')"
   ]
  },
  {
   "cell_type": "code",
   "execution_count": 47,
   "metadata": {},
   "outputs": [
    {
     "name": "stdout",
     "output_type": "stream",
     "text": [
      "[nonfloder]\n",
      "hairloss.jpg\n",
      "------------------------------\n",
      "[IMAGE]\n",
      "naeun1.jpg\n",
      "naeun2.jpg\n",
      "------------------------------\n",
      "[nonfloder]\n",
      "Iris.csv\n",
      "------------------------------\n",
      "[MNIST]\n",
      "t10k-images.idx3-ubyte\n",
      "t10k-labels.idx1-ubyte\n",
      "t10k.csv\n",
      "train-images.idx3-ubyte\n",
      "train-labels.idx1-ubyte\n",
      "train.csv\n",
      "------------------------------\n",
      "[model]\n",
      "best_model.pth\n",
      "iris_dt.pkl\n",
      "my_model.pt\n",
      "------------------------------\n",
      "[nonfloder]\n",
      "winequality-white.csv\n",
      "------------------------------\n"
     ]
    }
   ],
   "source": [
    "# 폴더 아래에 파일은 파일명만 출력, 폴더라면 폴더 아래 데이터 리스트 출력\n",
    "\n",
    "for data_name in datalist:\n",
    "    # 폴더 여부 체크 후 폴더인 경우\n",
    "    if os.path.isdir(my_folder + data_name):\n",
    "        sublist = os.listdir(my_folder + data_name)\n",
    "        print(f'[{data_name}]')\n",
    "        for sub in sublist: print(sub)\n",
    "        print('-' * 30)\n",
    "     # 폴더가 아닌 경우\n",
    "    else:\n",
    "        print(f'[nonfloder]')\n",
    "        print(data_name)\n",
    "        print('-' * 30)"
   ]
  },
  {
   "cell_type": "code",
   "execution_count": 48,
   "metadata": {},
   "outputs": [
    {
     "name": "stdout",
     "output_type": "stream",
     "text": [
      "[nonfloder]\n",
      "Iris.csv\n",
      "------------------------------\n",
      "[MNIST]\n",
      "t10k.csv\n",
      "train.csv\n",
      "------------------------------\n",
      "[nonfloder]\n",
      "winequality-white.csv\n",
      "------------------------------\n"
     ]
    }
   ],
   "source": [
    "# 원하는 확장자 파일만 출력 예) csv\n",
    "\n",
    "for data_name in datalist:\n",
    "    # 폴더 여부 체크 후 폴더인 경우\n",
    "    if os.path.isdir(my_folder + data_name):\n",
    "        sublist = os.listdir(my_folder + data_name)\n",
    "        for sub in sublist:\n",
    "            if sub.endswith('csv'):\n",
    "                print(f'[{data_name}]')\n",
    "                break\n",
    "        for sub in sublist:\n",
    "            if sub.endswith('csv'):\n",
    "                print(sub) \n",
    "                if sub == sublist[-1]:\n",
    "                    print('-'*30)\n",
    "    # 폴더가 아닌 경우\n",
    "    else:\n",
    "        if data_name.endswith('csv'):\n",
    "            print(f'[nonfloder]')\n",
    "            print(data_name)\n",
    "            print('-' * 30)"
   ]
  }
 ],
 "metadata": {
  "kernelspec": {
   "display_name": "Torch_PY38",
   "language": "python",
   "name": "python3"
  },
  "language_info": {
   "codemirror_mode": {
    "name": "ipython",
    "version": 3
   },
   "file_extension": ".py",
   "mimetype": "text/x-python",
   "name": "python",
   "nbconvert_exporter": "python",
   "pygments_lexer": "ipython3",
   "version": "3.8.18"
  }
 },
 "nbformat": 4,
 "nbformat_minor": 2
}
