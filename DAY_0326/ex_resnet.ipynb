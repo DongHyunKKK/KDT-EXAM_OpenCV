{
 "cells": [
  {
   "cell_type": "markdown",
   "metadata": {},
   "source": [
    "### 전이학습"
   ]
  },
  {
   "cell_type": "code",
   "execution_count": 19,
   "metadata": {},
   "outputs": [],
   "source": [
    "import torch\n",
    "import torch.nn as nn\n",
    "import torch.optim as optim\n",
    "from torch.utils.data import DataLoader\n",
    "\n",
    "# 이미지 데이터셋, 전처리, 전이학습 모듈\n",
    "import torchvision.transforms as transforms\n",
    "from torchvision.datasets import ImageFolder\n",
    "from torchvision.models import resnet18, ResNet18_Weights\n",
    "\n",
    "from torchinfo import summary\n",
    "from torch.optim.lr_scheduler import ReduceLROnPlateau\n",
    "from torchmetrics.functional.classification import multiclass_accuracy"
   ]
  },
  {
   "cell_type": "code",
   "execution_count": 9,
   "metadata": {},
   "outputs": [
    {
     "name": "stdout",
     "output_type": "stream",
     "text": [
      "['naeun', 'yeeun']\n",
      "[0, 0, 1, 1]\n",
      "[('../DATA/IMAGE\\\\naeun\\\\naeun1.jpg', 0), ('../DATA/IMAGE\\\\naeun\\\\naeun2.jpg', 0), ('../DATA/IMAGE\\\\yeeun\\\\yeeun1.jpg', 1), ('../DATA/IMAGE\\\\yeeun\\\\yeeun2.png', 1)]\n"
     ]
    }
   ],
   "source": [
    "# 데이터 준비\n",
    "img_dir = '../DATA/IMAGE'\n",
    "\n",
    "# Resnet 전처리\n",
    "preprocessing = transforms.Compose(transforms = [transforms.Resize(size = 256, interpolation = transforms.InterpolationMode.BILINEAR),\n",
    "                                    transforms.CenterCrop(size = 224),\n",
    "                                    transforms.ToTensor(),\n",
    "                                    transforms.Normalize(mean = (0.485, 0.456, 0.406), std = (0.229, 0.224, 0.225))])\n",
    "\n",
    "# 이미지 데이터셋 생성\n",
    "imgDS = ImageFolder(root = img_dir, transform = preprocessing)\n",
    "print(imgDS.classes, imgDS.targets, imgDS.imgs, sep = '\\n')"
   ]
  },
  {
   "cell_type": "code",
   "execution_count": 13,
   "metadata": {},
   "outputs": [
    {
     "name": "stdout",
     "output_type": "stream",
     "text": [
      "torch.Size([2, 3, 224, 224]) tensor([1, 0])\n",
      "torch.Size([2, 3, 224, 224]) tensor([0, 1])\n"
     ]
    }
   ],
   "source": [
    "# 데이터 로더 생성\n",
    "imgDL = DataLoader(imgDS, batch_size = 2, shuffle = True, drop_last = True)\n",
    "for (img, label) in imgDL: print(img.shape, label)"
   ]
  },
  {
   "cell_type": "code",
   "execution_count": 14,
   "metadata": {},
   "outputs": [
    {
     "name": "stderr",
     "output_type": "stream",
     "text": [
      "Downloading: \"https://download.pytorch.org/models/resnet18-f37072fd.pth\" to C:\\Users\\user/.cache\\torch\\hub\\checkpoints\\resnet18-f37072fd.pth\n",
      "100.0%\n"
     ]
    }
   ],
   "source": [
    "# 모델 설계 및 설정\n",
    "\n",
    "# 사전학습된 모델 인스턴스 생성\n",
    "res_model = resnet18(weights = ResNet18_Weights.DEFAULT)\n",
    "\n",
    "# 전결합층 변경\n",
    "# in feature : FeatureMap에서 받은 피처 수, out_featrues : 출력/분류 클래스 수\n",
    "res_model.fc = nn.Linear(in_features = 512, out_features = 3)"
   ]
  },
  {
   "cell_type": "code",
   "execution_count": 15,
   "metadata": {},
   "outputs": [
    {
     "data": {
      "text/plain": [
       "==========================================================================================\n",
       "Layer (type:depth-idx)                   Output Shape              Param #\n",
       "==========================================================================================\n",
       "ResNet                                   [2, 3]                    --\n",
       "├─Conv2d: 1-1                            [2, 64, 112, 112]         9,408\n",
       "├─BatchNorm2d: 1-2                       [2, 64, 112, 112]         128\n",
       "├─ReLU: 1-3                              [2, 64, 112, 112]         --\n",
       "├─MaxPool2d: 1-4                         [2, 64, 56, 56]           --\n",
       "├─Sequential: 1-5                        [2, 64, 56, 56]           --\n",
       "│    └─BasicBlock: 2-1                   [2, 64, 56, 56]           --\n",
       "│    │    └─Conv2d: 3-1                  [2, 64, 56, 56]           36,864\n",
       "│    │    └─BatchNorm2d: 3-2             [2, 64, 56, 56]           128\n",
       "│    │    └─ReLU: 3-3                    [2, 64, 56, 56]           --\n",
       "│    │    └─Conv2d: 3-4                  [2, 64, 56, 56]           36,864\n",
       "│    │    └─BatchNorm2d: 3-5             [2, 64, 56, 56]           128\n",
       "│    │    └─ReLU: 3-6                    [2, 64, 56, 56]           --\n",
       "│    └─BasicBlock: 2-2                   [2, 64, 56, 56]           --\n",
       "│    │    └─Conv2d: 3-7                  [2, 64, 56, 56]           36,864\n",
       "│    │    └─BatchNorm2d: 3-8             [2, 64, 56, 56]           128\n",
       "│    │    └─ReLU: 3-9                    [2, 64, 56, 56]           --\n",
       "│    │    └─Conv2d: 3-10                 [2, 64, 56, 56]           36,864\n",
       "│    │    └─BatchNorm2d: 3-11            [2, 64, 56, 56]           128\n",
       "│    │    └─ReLU: 3-12                   [2, 64, 56, 56]           --\n",
       "├─Sequential: 1-6                        [2, 128, 28, 28]          --\n",
       "│    └─BasicBlock: 2-3                   [2, 128, 28, 28]          --\n",
       "│    │    └─Conv2d: 3-13                 [2, 128, 28, 28]          73,728\n",
       "│    │    └─BatchNorm2d: 3-14            [2, 128, 28, 28]          256\n",
       "│    │    └─ReLU: 3-15                   [2, 128, 28, 28]          --\n",
       "│    │    └─Conv2d: 3-16                 [2, 128, 28, 28]          147,456\n",
       "│    │    └─BatchNorm2d: 3-17            [2, 128, 28, 28]          256\n",
       "│    │    └─Sequential: 3-18             [2, 128, 28, 28]          8,448\n",
       "│    │    └─ReLU: 3-19                   [2, 128, 28, 28]          --\n",
       "│    └─BasicBlock: 2-4                   [2, 128, 28, 28]          --\n",
       "│    │    └─Conv2d: 3-20                 [2, 128, 28, 28]          147,456\n",
       "│    │    └─BatchNorm2d: 3-21            [2, 128, 28, 28]          256\n",
       "│    │    └─ReLU: 3-22                   [2, 128, 28, 28]          --\n",
       "│    │    └─Conv2d: 3-23                 [2, 128, 28, 28]          147,456\n",
       "│    │    └─BatchNorm2d: 3-24            [2, 128, 28, 28]          256\n",
       "│    │    └─ReLU: 3-25                   [2, 128, 28, 28]          --\n",
       "├─Sequential: 1-7                        [2, 256, 14, 14]          --\n",
       "│    └─BasicBlock: 2-5                   [2, 256, 14, 14]          --\n",
       "│    │    └─Conv2d: 3-26                 [2, 256, 14, 14]          294,912\n",
       "│    │    └─BatchNorm2d: 3-27            [2, 256, 14, 14]          512\n",
       "│    │    └─ReLU: 3-28                   [2, 256, 14, 14]          --\n",
       "│    │    └─Conv2d: 3-29                 [2, 256, 14, 14]          589,824\n",
       "│    │    └─BatchNorm2d: 3-30            [2, 256, 14, 14]          512\n",
       "│    │    └─Sequential: 3-31             [2, 256, 14, 14]          33,280\n",
       "│    │    └─ReLU: 3-32                   [2, 256, 14, 14]          --\n",
       "│    └─BasicBlock: 2-6                   [2, 256, 14, 14]          --\n",
       "│    │    └─Conv2d: 3-33                 [2, 256, 14, 14]          589,824\n",
       "│    │    └─BatchNorm2d: 3-34            [2, 256, 14, 14]          512\n",
       "│    │    └─ReLU: 3-35                   [2, 256, 14, 14]          --\n",
       "│    │    └─Conv2d: 3-36                 [2, 256, 14, 14]          589,824\n",
       "│    │    └─BatchNorm2d: 3-37            [2, 256, 14, 14]          512\n",
       "│    │    └─ReLU: 3-38                   [2, 256, 14, 14]          --\n",
       "├─Sequential: 1-8                        [2, 512, 7, 7]            --\n",
       "│    └─BasicBlock: 2-7                   [2, 512, 7, 7]            --\n",
       "│    │    └─Conv2d: 3-39                 [2, 512, 7, 7]            1,179,648\n",
       "│    │    └─BatchNorm2d: 3-40            [2, 512, 7, 7]            1,024\n",
       "│    │    └─ReLU: 3-41                   [2, 512, 7, 7]            --\n",
       "│    │    └─Conv2d: 3-42                 [2, 512, 7, 7]            2,359,296\n",
       "│    │    └─BatchNorm2d: 3-43            [2, 512, 7, 7]            1,024\n",
       "│    │    └─Sequential: 3-44             [2, 512, 7, 7]            132,096\n",
       "│    │    └─ReLU: 3-45                   [2, 512, 7, 7]            --\n",
       "│    └─BasicBlock: 2-8                   [2, 512, 7, 7]            --\n",
       "│    │    └─Conv2d: 3-46                 [2, 512, 7, 7]            2,359,296\n",
       "│    │    └─BatchNorm2d: 3-47            [2, 512, 7, 7]            1,024\n",
       "│    │    └─ReLU: 3-48                   [2, 512, 7, 7]            --\n",
       "│    │    └─Conv2d: 3-49                 [2, 512, 7, 7]            2,359,296\n",
       "│    │    └─BatchNorm2d: 3-50            [2, 512, 7, 7]            1,024\n",
       "│    │    └─ReLU: 3-51                   [2, 512, 7, 7]            --\n",
       "├─AdaptiveAvgPool2d: 1-9                 [2, 512, 1, 1]            --\n",
       "├─Linear: 1-10                           [2, 3]                    1,539\n",
       "==========================================================================================\n",
       "Total params: 11,178,051\n",
       "Trainable params: 11,178,051\n",
       "Non-trainable params: 0\n",
       "Total mult-adds (G): 3.63\n",
       "==========================================================================================\n",
       "Input size (MB): 1.20\n",
       "Forward/backward pass size (MB): 79.48\n",
       "Params size (MB): 44.71\n",
       "Estimated Total Size (MB): 125.40\n",
       "=========================================================================================="
      ]
     },
     "execution_count": 15,
     "metadata": {},
     "output_type": "execute_result"
    }
   ],
   "source": [
    "summary(model = res_model, input_size = (2, 3, 224, 224))"
   ]
  },
  {
   "cell_type": "code",
   "execution_count": 17,
   "metadata": {},
   "outputs": [
    {
     "name": "stdout",
     "output_type": "stream",
     "text": [
      "conv1.weight False     =====>     False\n",
      "bn1.weight False     =====>     False\n",
      "bn1.bias False     =====>     False\n",
      "layer1.0.conv1.weight False     =====>     False\n",
      "layer1.0.bn1.weight False     =====>     False\n",
      "layer1.0.bn1.bias False     =====>     False\n",
      "layer1.0.conv2.weight False     =====>     False\n",
      "layer1.0.bn2.weight False     =====>     False\n",
      "layer1.0.bn2.bias False     =====>     False\n",
      "layer1.1.conv1.weight False     =====>     False\n",
      "layer1.1.bn1.weight False     =====>     False\n",
      "layer1.1.bn1.bias False     =====>     False\n",
      "layer1.1.conv2.weight False     =====>     False\n",
      "layer1.1.bn2.weight False     =====>     False\n",
      "layer1.1.bn2.bias False     =====>     False\n",
      "layer2.0.conv1.weight False     =====>     False\n",
      "layer2.0.bn1.weight False     =====>     False\n",
      "layer2.0.bn1.bias False     =====>     False\n",
      "layer2.0.conv2.weight False     =====>     False\n",
      "layer2.0.bn2.weight False     =====>     False\n",
      "layer2.0.bn2.bias False     =====>     False\n",
      "layer2.0.downsample.0.weight False     =====>     False\n",
      "layer2.0.downsample.1.weight False     =====>     False\n",
      "layer2.0.downsample.1.bias False     =====>     False\n",
      "layer2.1.conv1.weight False     =====>     False\n",
      "layer2.1.bn1.weight False     =====>     False\n",
      "layer2.1.bn1.bias False     =====>     False\n",
      "layer2.1.conv2.weight False     =====>     False\n",
      "layer2.1.bn2.weight False     =====>     False\n",
      "layer2.1.bn2.bias False     =====>     False\n",
      "layer3.0.conv1.weight False     =====>     False\n",
      "layer3.0.bn1.weight False     =====>     False\n",
      "layer3.0.bn1.bias False     =====>     False\n",
      "layer3.0.conv2.weight False     =====>     False\n",
      "layer3.0.bn2.weight False     =====>     False\n",
      "layer3.0.bn2.bias False     =====>     False\n",
      "layer3.0.downsample.0.weight False     =====>     False\n",
      "layer3.0.downsample.1.weight False     =====>     False\n",
      "layer3.0.downsample.1.bias False     =====>     False\n",
      "layer3.1.conv1.weight False     =====>     False\n",
      "layer3.1.bn1.weight False     =====>     False\n",
      "layer3.1.bn1.bias False     =====>     False\n",
      "layer3.1.conv2.weight False     =====>     False\n",
      "layer3.1.bn2.weight False     =====>     False\n",
      "layer3.1.bn2.bias False     =====>     False\n",
      "layer4.0.conv1.weight False     =====>     False\n",
      "layer4.0.bn1.weight False     =====>     False\n",
      "layer4.0.bn1.bias False     =====>     False\n",
      "layer4.0.conv2.weight False     =====>     False\n",
      "layer4.0.bn2.weight False     =====>     False\n",
      "layer4.0.bn2.bias False     =====>     False\n",
      "layer4.0.downsample.0.weight False     =====>     False\n",
      "layer4.0.downsample.1.weight False     =====>     False\n",
      "layer4.0.downsample.1.bias False     =====>     False\n",
      "layer4.1.conv1.weight False     =====>     False\n",
      "layer4.1.bn1.weight False     =====>     False\n",
      "layer4.1.bn1.bias False     =====>     False\n",
      "layer4.1.conv2.weight False     =====>     False\n",
      "layer4.1.bn2.weight False     =====>     False\n",
      "layer4.1.bn2.bias False     =====>     False\n",
      "fc.weight True     =====>     False\n",
      "fc.bias True     =====>     False\n",
      "weight False     =====>     True\n",
      "bias False     =====>     True\n"
     ]
    }
   ],
   "source": [
    "# Resnet18 Feature Module 파라미터 requires_grad = True => False 비활성화\n",
    "for name, param in res_model.named_parameters():\n",
    "    print(name, param.requires_grad, end = '     =====>     ')\n",
    "    param.requires_grad = False\n",
    "    print(param.requires_grad)\n",
    "\n",
    "for name, param in res_model.fc.named_parameters():\n",
    "    print(name, param.requires_grad, end = '     =====>     ')\n",
    "    param.requires_grad = True\n",
    "    print(param.requires_grad)"
   ]
  },
  {
   "cell_type": "code",
   "execution_count": 21,
   "metadata": {},
   "outputs": [],
   "source": [
    "# 학습 준비\n",
    "OPTIMIZER = optim.Adam(params = res_model.fc.parameters())\n",
    "loss_fn = nn.CrossEntropyLoss()  # 손실 함수 정의\n",
    "SCHEDULER = ReduceLROnPlateau(OPTIMIZER, mode = 'min', patience = 5)\n",
    "EPOCHS = 10"
   ]
  }
 ],
 "metadata": {
  "kernelspec": {
   "display_name": "Torch_PY38",
   "language": "python",
   "name": "python3"
  },
  "language_info": {
   "codemirror_mode": {
    "name": "ipython",
    "version": 3
   },
   "file_extension": ".py",
   "mimetype": "text/x-python",
   "name": "python",
   "nbconvert_exporter": "python",
   "pygments_lexer": "ipython3",
   "version": "3.8.12"
  }
 },
 "nbformat": 4,
 "nbformat_minor": 2
}
